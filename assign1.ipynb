{
 "cells": [
  {
   "cell_type": "markdown",
   "id": "f834cfe7-f76e-4b75-9a54-8c9495257a26",
   "metadata": {},
   "source": [
    "Assignment 1"
   ]
  },
  {
   "cell_type": "markdown",
   "id": "c87fdcdc-ac39-406e-a329-e5adbb54e7ad",
   "metadata": {},
   "source": [
    "Q1) Create one variable containing following type of data:"
   ]
  },
  {
   "cell_type": "markdown",
   "id": "a13cb147-2821-4659-a425-e3f7baa439e0",
   "metadata": {},
   "source": [
    "(i) string"
   ]
  },
  {
   "cell_type": "code",
   "execution_count": null,
   "id": "2b9f3f7b-7b04-46c1-9938-64af3f9e8c21",
   "metadata": {},
   "outputs": [],
   "source": [
    "s=\"pwskiils\""
   ]
  },
  {
   "cell_type": "markdown",
   "id": "ef3ecb32-0021-45e4-b198-7becbae67edc",
   "metadata": {},
   "source": [
    "(ii) list"
   ]
  },
  {
   "cell_type": "code",
   "execution_count": null,
   "id": "c875a28f-1be8-462d-afef-de1b28e42dd0",
   "metadata": {},
   "outputs": [],
   "source": [
    "l=[22,34,\"abc\",78.66,True,67+9j]"
   ]
  },
  {
   "cell_type": "markdown",
   "id": "a76d73e9-2238-434a-925e-de2be1ff05d7",
   "metadata": {},
   "source": [
    "(iii) float"
   ]
  },
  {
   "cell_type": "code",
   "execution_count": null,
   "id": "f99be59a-ff27-4971-8b5b-a51aa40dbbc8",
   "metadata": {},
   "outputs": [],
   "source": [
    "f=90.88"
   ]
  },
  {
   "cell_type": "markdown",
   "id": "26e5de64-aed2-4ee5-9518-433a647285b5",
   "metadata": {},
   "source": [
    "(iv) tuple"
   ]
  },
  {
   "cell_type": "code",
   "execution_count": null,
   "id": "29aaff69-acd2-4b0f-bf81-717f52469083",
   "metadata": {},
   "outputs": [],
   "source": [
    "t=(1,2,3,\"Data science\",False,67+9j,[5,6,8])"
   ]
  },
  {
   "cell_type": "raw",
   "id": "2f824c56-9b52-4738-8daf-e27095559a9c",
   "metadata": {},
   "source": []
  },
  {
   "cell_type": "markdown",
   "id": "cef453cd-fd09-4e18-8e80-57d8391483e6",
   "metadata": {},
   "source": [
    "Q2) Given are some following variables containing data:"
   ]
  },
  {
   "cell_type": "markdown",
   "id": "6fd8d6c3-1bc0-4a86-af15-0b9dd81eb95a",
   "metadata": {},
   "source": [
    "i)\tvar1 = ‘ ‘\n",
    "\n",
    "(ii)\tvar2 = ‘[ DS , ML , Python]’\n",
    "\n",
    "(iii)\tvar3 = [ ‘DS’ , ’ML’ , ‘Python’ ]\n",
    "\n",
    "(iv)\tvar4 = 1.\n",
    "\n",
    "\n",
    "What will be the data type of the above given variable:"
   ]
  },
  {
   "cell_type": "markdown",
   "id": "63eeadaa-8324-4858-84ef-d0bf58d709cf",
   "metadata": {},
   "source": [
    "Answer:"
   ]
  },
  {
   "cell_type": "markdown",
   "id": "83baccd3-19cf-4fa8-b9a9-d725261e10c6",
   "metadata": {},
   "source": [
    "(i) String"
   ]
  },
  {
   "cell_type": "markdown",
   "id": "1af3d1db-9c6e-4e5c-aa52-5ef166dbdd90",
   "metadata": {},
   "source": [
    "(ii) String"
   ]
  },
  {
   "cell_type": "markdown",
   "id": "d8aabbe1-0619-4612-8b2c-95b236695d51",
   "metadata": {},
   "source": [
    "(iii) List"
   ]
  },
  {
   "cell_type": "markdown",
   "id": "77ce62d0-de99-409b-ada0-dc7669931ea6",
   "metadata": {},
   "source": [
    "(iv) Integer"
   ]
  },
  {
   "cell_type": "raw",
   "id": "dfaca04d-6a5b-4b01-8e50-01ec102135db",
   "metadata": {},
   "source": []
  },
  {
   "cell_type": "markdown",
   "id": "3fd59c3f-cdcb-4816-b9e0-241fbf20d83b",
   "metadata": {},
   "source": [
    "Q3. Explain the use of the following operators using an example:"
   ]
  },
  {
   "cell_type": "markdown",
   "id": "ea6c3c7a-e903-43e2-af1b-ed8755f613ce",
   "metadata": {},
   "source": [
    "(i) /"
   ]
  },
  {
   "cell_type": "markdown",
   "id": "088d43b4-fbb5-445e-8e7c-6825b5e8f23b",
   "metadata": {},
   "source": [
    "It is division(float) operator. It divide the first operand by the second "
   ]
  },
  {
   "cell_type": "markdown",
   "id": "d124cd7e-e5f0-499d-95db-405966024659",
   "metadata": {},
   "source": [
    "example:"
   ]
  },
  {
   "cell_type": "code",
   "execution_count": 9,
   "id": "00d45d14-ebac-4097-8577-bb9a86023faf",
   "metadata": {},
   "outputs": [],
   "source": [
    "a=6"
   ]
  },
  {
   "cell_type": "code",
   "execution_count": 10,
   "id": "e0ed0a5b-c81a-446b-93f1-5e4fe19ebb81",
   "metadata": {},
   "outputs": [],
   "source": [
    "b=3"
   ]
  },
  {
   "cell_type": "code",
   "execution_count": 11,
   "id": "b84c09cd-fe34-4fcf-aa41-a953f667159c",
   "metadata": {},
   "outputs": [
    {
     "name": "stdout",
     "output_type": "stream",
     "text": [
      "2.0\n"
     ]
    }
   ],
   "source": [
    "print(a / b)"
   ]
  },
  {
   "cell_type": "markdown",
   "id": "b6bcd42e-abdb-46e3-9137-c66f8e5d42c0",
   "metadata": {},
   "source": [
    "(ii) %"
   ]
  },
  {
   "cell_type": "markdown",
   "id": "7c65d0b9-66da-4c04-bae0-211173bf52f2",
   "metadata": {},
   "source": [
    "It is a modulus operator. It returns the remainder when the first operand is divided by the second"
   ]
  },
  {
   "cell_type": "markdown",
   "id": "b08faa54-ff39-4b47-8520-07d42a3d3059",
   "metadata": {},
   "source": [
    "example"
   ]
  },
  {
   "cell_type": "code",
   "execution_count": 12,
   "id": "3bb19abe-bffb-4b01-92cc-1fa1c9790fb8",
   "metadata": {},
   "outputs": [],
   "source": [
    "x=9"
   ]
  },
  {
   "cell_type": "code",
   "execution_count": 13,
   "id": "bd512a67-4558-431a-a214-92ba89e7082d",
   "metadata": {},
   "outputs": [],
   "source": [
    "y=3"
   ]
  },
  {
   "cell_type": "code",
   "execution_count": 14,
   "id": "4f3a10db-ac2e-4610-aacf-42339ceb098a",
   "metadata": {},
   "outputs": [
    {
     "name": "stdout",
     "output_type": "stream",
     "text": [
      "0\n"
     ]
    }
   ],
   "source": [
    "print(x % y)"
   ]
  },
  {
   "cell_type": "markdown",
   "id": "e9bd616c-1774-4f46-9db4-4ca9db0bff8a",
   "metadata": {},
   "source": [
    "(iii) //"
   ]
  },
  {
   "cell_type": "markdown",
   "id": "c18edd2d-e2d8-4a53-9c07-ae56c253d306",
   "metadata": {},
   "source": [
    "It is a division (floor) operator.It divides the first operand by the second."
   ]
  },
  {
   "cell_type": "markdown",
   "id": "53ce15cf-c0a4-47ff-b303-b0c6b8702a80",
   "metadata": {},
   "source": [
    "example"
   ]
  },
  {
   "cell_type": "code",
   "execution_count": 15,
   "id": "2c04185a-1518-4036-b67d-cb8ef6dcf93c",
   "metadata": {},
   "outputs": [],
   "source": [
    "p=4"
   ]
  },
  {
   "cell_type": "code",
   "execution_count": 16,
   "id": "0566efee-7806-4f9f-92b6-d7e2c7306cf4",
   "metadata": {},
   "outputs": [],
   "source": [
    "q=2"
   ]
  },
  {
   "cell_type": "code",
   "execution_count": 17,
   "id": "3dfd111a-ff4c-4dbd-8ca4-e82ee8bb2c84",
   "metadata": {},
   "outputs": [
    {
     "name": "stdout",
     "output_type": "stream",
     "text": [
      "2\n"
     ]
    }
   ],
   "source": [
    "print(p // q)"
   ]
  },
  {
   "cell_type": "markdown",
   "id": "3db2696e-d399-4d42-88b1-d80879ce21fa",
   "metadata": {},
   "source": [
    "(iv) **"
   ]
  },
  {
   "cell_type": "markdown",
   "id": "dc295ab1-873e-45e6-a1b8-122985915303",
   "metadata": {},
   "source": [
    "It is a power operator. It returns first raised to power second."
   ]
  },
  {
   "cell_type": "markdown",
   "id": "f9b57dd8-8538-4b7f-a959-d3cf66428382",
   "metadata": {},
   "source": [
    "example"
   ]
  },
  {
   "cell_type": "code",
   "execution_count": 18,
   "id": "86a00432-07d5-410a-9bd1-dd5480b02690",
   "metadata": {},
   "outputs": [],
   "source": [
    "s=3"
   ]
  },
  {
   "cell_type": "code",
   "execution_count": 19,
   "id": "af588d57-d464-4286-b726-45f87b4eca34",
   "metadata": {},
   "outputs": [],
   "source": [
    "t=2"
   ]
  },
  {
   "cell_type": "code",
   "execution_count": 20,
   "id": "c0a1b9b4-6b38-45a9-9ef5-ef5ae28b8c07",
   "metadata": {},
   "outputs": [
    {
     "name": "stdout",
     "output_type": "stream",
     "text": [
      "9\n"
     ]
    }
   ],
   "source": [
    "print(s ** t)"
   ]
  },
  {
   "cell_type": "raw",
   "id": "5cc3d636-280e-44b9-886e-a76508f36bca",
   "metadata": {},
   "source": []
  },
  {
   "cell_type": "markdown",
   "id": "9f4305f8-c0cc-4731-a5bc-ce409772fdd9",
   "metadata": {},
   "source": [
    "Q4. Create a list of length 10 of your choice containing multiple types of data. Using for loop print the\n",
    "element and its data type."
   ]
  },
  {
   "cell_type": "code",
   "execution_count": 21,
   "id": "075892bc-3db8-4d89-a711-352e245b11fb",
   "metadata": {},
   "outputs": [
    {
     "name": "stdout",
     "output_type": "stream",
     "text": [
      "1\n",
      "<class 'int'>\n",
      "22\n",
      "<class 'int'>\n",
      "345\n",
      "<class 'int'>\n",
      "Artificial Intelligence\n",
      "<class 'str'>\n",
      "True\n",
      "<class 'bool'>\n",
      "(8+66j)\n",
      "<class 'complex'>\n",
      "89.7\n",
      "<class 'float'>\n",
      "Data science\n",
      "<class 'str'>\n",
      "z\n",
      "<class 'str'>\n",
      "90.4\n",
      "<class 'float'>\n"
     ]
    }
   ],
   "source": [
    "l=[1,22,345,\"Artificial Intelligence\",True,8+66j,89.7,\"Data science\",\"z\",90.4]\n",
    "\n",
    "for i in l:\n",
    "    print(i)\n",
    "    print(type(i))"
   ]
  },
  {
   "cell_type": "raw",
   "id": "45653592-dd4e-4087-bdd1-31b6e0cf57b3",
   "metadata": {},
   "source": []
  },
  {
   "cell_type": "markdown",
   "id": "796ecb3e-be17-4ee0-aa83-b4446a6aff99",
   "metadata": {},
   "source": [
    "Q5. using a while loop verify the number A is purely divisible by number B and if so then how many times it can be divisible"
   ]
  },
  {
   "cell_type": "code",
   "execution_count": null,
   "id": "630bb9fe-1b7e-45cc-8be5-f0367fbf3fc4",
   "metadata": {},
   "outputs": [],
   "source": [
    "A = int(input(\"Enter number A: \"))\n",
    "B = int(input(\"Enter number B: \"))\n",
    "        \n",
    "if A % B == 0:\n",
    "        count = A // B\n",
    "        print(B, \"can divide\" , A , \",\" ,count, \"times.\")\n",
    "else:\n",
    "        print(B, \"can divide\", A , \"purely\")"
   ]
  },
  {
   "cell_type": "raw",
   "id": "790f2818-d193-40d8-9c02-49697af93dfa",
   "metadata": {},
   "source": []
  },
  {
   "cell_type": "markdown",
   "id": "267367b2-3337-414d-96ad-4f8d9f6dea69",
   "metadata": {},
   "source": [
    "Q6. Create a list containing 25 int type data. Using for loop and if-else condition print if the element is\n",
    "divisible by 3 or not."
   ]
  },
  {
   "cell_type": "code",
   "execution_count": 25,
   "id": "27552999-4c4c-4238-8ab4-2565b87b3a3b",
   "metadata": {},
   "outputs": [],
   "source": [
    "list=[]"
   ]
  },
  {
   "cell_type": "code",
   "execution_count": 38,
   "id": "df6f8b53-e2c4-4ce3-8f37-bfc91fe3add6",
   "metadata": {},
   "outputs": [
    {
     "name": "stdout",
     "output_type": "stream",
     "text": [
      "0\n",
      "number is divisible by 3\n",
      "1\n",
      "number is not divisible by 3\n",
      "2\n",
      "number is not divisible by 3\n",
      "3\n",
      "number is divisible by 3\n",
      "4\n",
      "number is not divisible by 3\n",
      "5\n",
      "number is not divisible by 3\n",
      "6\n",
      "number is divisible by 3\n",
      "7\n",
      "number is not divisible by 3\n",
      "8\n",
      "number is not divisible by 3\n",
      "9\n",
      "number is divisible by 3\n",
      "10\n",
      "number is not divisible by 3\n",
      "11\n",
      "number is not divisible by 3\n",
      "12\n",
      "number is divisible by 3\n",
      "13\n",
      "number is not divisible by 3\n",
      "14\n",
      "number is not divisible by 3\n",
      "15\n",
      "number is divisible by 3\n",
      "16\n",
      "number is not divisible by 3\n",
      "17\n",
      "number is not divisible by 3\n",
      "18\n",
      "number is divisible by 3\n",
      "19\n",
      "number is not divisible by 3\n",
      "20\n",
      "number is not divisible by 3\n",
      "21\n",
      "number is divisible by 3\n",
      "22\n",
      "number is not divisible by 3\n",
      "23\n",
      "number is not divisible by 3\n",
      "24\n",
      "number is divisible by 3\n",
      "25\n",
      "number is not divisible by 3\n"
     ]
    }
   ],
   "source": [
    "\n",
    "for i in range (0,26):\n",
    "    print(i)\n",
    "    list.append(i)\n",
    "    if i % 3 == 0:\n",
    "        print(\"number is divisible by 3\")\n",
    "    else:\n",
    "        print(\"number is not divisible by 3\")"
   ]
  },
  {
   "cell_type": "raw",
   "id": "17d5e0b5-3540-44ab-a019-bf0feda78e7e",
   "metadata": {},
   "source": []
  },
  {
   "cell_type": "markdown",
   "id": "de001795-681a-4ab5-95f8-5b0544a72c6e",
   "metadata": {},
   "source": [
    "Q7. What do you understand about mutable and immutable data types? Give examples for both showing\n",
    "this proper"
   ]
  },
  {
   "cell_type": "markdown",
   "id": "265e858b-f485-4319-8e2e-ca88954f703c",
   "metadata": {},
   "source": [
    "Mutable Data Types"
   ]
  },
  {
   "cell_type": "markdown",
   "id": "78ef1748-9391-40af-b9bf-12c2951ce494",
   "metadata": {},
   "source": [
    "Anything is said to be mutable when anything can be modified or changed. The term \"mutable\" in Python refers to an object's capacity to modify its values. These are frequently the things that hold a data collection"
   ]
  },
  {
   "cell_type": "markdown",
   "id": "087c966b-2eb2-48ff-8f61-1204b2d2fb29",
   "metadata": {},
   "source": [
    "examples"
   ]
  },
  {
   "cell_type": "markdown",
   "id": "d5fae799-f13a-43c9-be95-7f8a6b47d226",
   "metadata": {},
   "source": [
    "(i) list"
   ]
  },
  {
   "cell_type": "code",
   "execution_count": null,
   "id": "a9151f7e-5326-43d3-8fe1-51373a403e0a",
   "metadata": {},
   "outputs": [],
   "source": [
    "l=[1,22,345,\"Artificial Intelligence\",True,8+66j,89.7,\"Data science\",\"z\",90.4]"
   ]
  },
  {
   "cell_type": "markdown",
   "id": "768afdc5-2b5a-4a52-ae18-fdcdae5f42f4",
   "metadata": {},
   "source": [
    "(ii) Dictionaries"
   ]
  },
  {
   "cell_type": "code",
   "execution_count": null,
   "id": "9bdd67f2-bb86-44bd-8d0f-681677dc3459",
   "metadata": {},
   "outputs": [],
   "source": [
    "d={\"name\":\"xyz\",\"course\":\"data science\",\"branch\":\"AI\"}"
   ]
  },
  {
   "cell_type": "markdown",
   "id": "163fe7ad-376e-4001-89db-f6d88585e9a1",
   "metadata": {},
   "source": [
    "(iii) Set"
   ]
  },
  {
   "cell_type": "code",
   "execution_count": 23,
   "id": "02667ee7-5df8-4980-9645-ea58a6f6ab0c",
   "metadata": {},
   "outputs": [],
   "source": [
    "s={2,45,78,99,\"sneha\",78+8j,89.7}"
   ]
  },
  {
   "cell_type": "markdown",
   "id": "8614f333-df9d-435d-a19f-4d149a9147eb",
   "metadata": {},
   "source": [
    "Immutable Data Types"
   ]
  },
  {
   "cell_type": "markdown",
   "id": "4fa4f7f4-822a-4d01-857d-a22231fcbd89",
   "metadata": {},
   "source": [
    "Immutable refers to a state in which no change can occur over time. A Python object is referred to as immutable if we cannot change its value over time. The value of these Python objects is fixed once they are made."
   ]
  },
  {
   "cell_type": "markdown",
   "id": "c6555187-34e2-455e-8c33-7819ebe96f18",
   "metadata": {},
   "source": [
    "examples"
   ]
  },
  {
   "cell_type": "markdown",
   "id": "9cde9a34-3b33-45cd-bb9a-c2e9340b8cf6",
   "metadata": {},
   "source": [
    "(i) String"
   ]
  },
  {
   "cell_type": "code",
   "execution_count": 22,
   "id": "af31c305-277f-4b87-90cd-0c3ad5ede6d2",
   "metadata": {},
   "outputs": [],
   "source": [
    "s=\"pwskills\""
   ]
  },
  {
   "cell_type": "markdown",
   "id": "b4c7bef0-222d-4b83-9945-e3d9dfb02b31",
   "metadata": {},
   "source": [
    "(ii) Tuples"
   ]
  },
  {
   "cell_type": "code",
   "execution_count": 24,
   "id": "d22f159c-5523-473d-86b0-17009145e985",
   "metadata": {},
   "outputs": [],
   "source": [
    "t=(1,2,3,\"Data science\",False,67+9j,[5,6,8])"
   ]
  }
 ],
 "metadata": {
  "kernelspec": {
   "display_name": "Python 3 (ipykernel)",
   "language": "python",
   "name": "python3"
  },
  "language_info": {
   "codemirror_mode": {
    "name": "ipython",
    "version": 3
   },
   "file_extension": ".py",
   "mimetype": "text/x-python",
   "name": "python",
   "nbconvert_exporter": "python",
   "pygments_lexer": "ipython3",
   "version": "3.10.8"
  }
 },
 "nbformat": 4,
 "nbformat_minor": 5
}
