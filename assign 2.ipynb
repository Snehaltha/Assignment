{
 "cells": [
  {
   "cell_type": "markdown",
   "id": "1d868203-c6f1-474f-a1d9-875729caed50",
   "metadata": {},
   "source": [
    "Assignment (Week 2)"
   ]
  },
  {
   "cell_type": "markdown",
   "id": "12fd6878-f936-40b1-8d5c-f571ed9c04bb",
   "metadata": {},
   "source": [
    "Q1) How do you comment code in Python? What are the different types of comments ?"
   ]
  },
  {
   "cell_type": "markdown",
   "id": "bcda37bd-67c0-461a-9f41-e8b0afe8c43d",
   "metadata": {},
   "source": [
    "Answer : Comments in Python are identified with a hash symbol, #, and extend to the end of the line. Hash characters in a string are not considered comments, however. There are three ways to write a comment - as a separate line, beside the corresponding statement of code, or as a multi-line comment block."
   ]
  },
  {
   "cell_type": "markdown",
   "id": "d96f25ff-1963-4378-8706-ce4d2667efa0",
   "metadata": {},
   "source": [
    "Types of Comments in Python"
   ]
  },
  {
   "cell_type": "markdown",
   "id": "80037ad0-31b9-48e0-b3c9-6649494ae565",
   "metadata": {},
   "source": [
    "Single-Line Comments in Python"
   ]
  },
  {
   "cell_type": "markdown",
   "id": "6badbab2-f2dc-4ebb-b6e5-3f0c0e978822",
   "metadata": {},
   "source": [
    "Python single-line comment starts with the hashtag symbol (#) with no white spaces and lasts till the end of the line. If the comment exceeds one line then put a hashtag on the next line and continue the Python Comments. Python’s single-line comments are proved useful for supplying short explanations for variables, function declarations, and expressions."
   ]
  },
  {
   "cell_type": "markdown",
   "id": "03ff917e-b963-483f-a3d4-f7d3d4888a3a",
   "metadata": {},
   "source": [
    "Example: "
   ]
  },
  {
   "cell_type": "code",
   "execution_count": 1,
   "id": "735446f6-a1e4-4ab5-b421-52d776235e22",
   "metadata": {},
   "outputs": [],
   "source": [
    "# This is a single line comment"
   ]
  },
  {
   "cell_type": "markdown",
   "id": "dc64b7c7-7a17-4966-a8d3-e8dd37318f52",
   "metadata": {},
   "source": [
    "Multi-Line Comments in Python"
   ]
  },
  {
   "cell_type": "markdown",
   "id": "075a5331-8199-44a9-aa27-53e7227a8cf3",
   "metadata": {},
   "source": [
    "Answer: Python does not provide the option for multiline comments. However, there are different ways through which we can write multiline comments.\n",
    "Multiline comments using multiple hashtags (#)\n",
    "We can multiple hashtags (#) to write multiline comments in Python. Each and every line will be considered as a single-line comment. we can use \"\"\"  \"\"\" also for multiple line comment."
   ]
  },
  {
   "cell_type": "markdown",
   "id": "afe52251-d718-4224-8c49-a89090b768e7",
   "metadata": {},
   "source": [
    "Example:"
   ]
  },
  {
   "cell_type": "code",
   "execution_count": 2,
   "id": "0bff8c19-ed97-4b9b-8086-3138c21d6825",
   "metadata": {},
   "outputs": [],
   "source": [
    "# this is a data science course\n",
    "# this is a week 2 of python languague function lecture"
   ]
  },
  {
   "cell_type": "code",
   "execution_count": 3,
   "id": "0d93de9f-ffb6-4013-ad2f-0b52da5dde6f",
   "metadata": {},
   "outputs": [
    {
     "data": {
      "text/plain": [
       "' this is a data science course\\nthis is a week 2 of python languague function lecture'"
      ]
     },
     "execution_count": 3,
     "metadata": {},
     "output_type": "execute_result"
    }
   ],
   "source": [
    "\"\"\" this is a data science course\n",
    "this is a week 2 of python languague function lecture \"\"\""
   ]
  },
  {
   "cell_type": "raw",
   "id": "f2b2273b-8bee-44a8-8cfa-81a75bc2caff",
   "metadata": {},
   "source": []
  },
  {
   "cell_type": "markdown",
   "id": "0be7c322-4bdb-4b40-a772-312bdd33a8c9",
   "metadata": {},
   "source": [
    " Q2) What are variables in Python? How do you declare and assign values to variables ?"
   ]
  },
  {
   "cell_type": "markdown",
   "id": "b66f1f78-746c-4ba0-bd47-2e28ba6eef5f",
   "metadata": {},
   "source": [
    "Python Variable is containers that store values. Python is not “statically typed”. We do not need to declare variables before using them or declare their type. A variable is created the moment we first assign a value to it. A Python variable is a name given to a memory location. It is the basic unit of storage in a program."
   ]
  },
  {
   "cell_type": "markdown",
   "id": "6f98da66-8eac-4155-91ba-d156ad0be9df",
   "metadata": {},
   "source": [
    "Example of Variable in Python\n",
    "\n",
    "An Example of a Variable in Python is a representational name that serves as a pointer to an object. Once an object is assigned to a variable, it can be referred to by that name. In layman’s terms, we can say that Variable in Python is containers that store values.\n",
    "\n",
    "Here we have stored “pwskills” in a var which is variable, and when we call its name the stored information will get printed."
   ]
  },
  {
   "cell_type": "code",
   "execution_count": 4,
   "id": "cf071ce3-d8e0-40aa-b7c4-ce56d23040ba",
   "metadata": {},
   "outputs": [],
   "source": [
    "var=\"pwskills\""
   ]
  },
  {
   "cell_type": "code",
   "execution_count": 5,
   "id": "0168a2ee-9b48-4e08-b921-457d6c3bc297",
   "metadata": {},
   "outputs": [
    {
     "data": {
      "text/plain": [
       "'pwskills'"
      ]
     },
     "execution_count": 5,
     "metadata": {},
     "output_type": "execute_result"
    }
   ],
   "source": [
    "var"
   ]
  },
  {
   "cell_type": "code",
   "execution_count": 6,
   "id": "7a28b8e4-47e2-40ea-9fd2-4d219840c45f",
   "metadata": {},
   "outputs": [],
   "source": [
    "num = 900       # declaration of value"
   ]
  },
  {
   "cell_type": "code",
   "execution_count": 7,
   "id": "3ead4707-cfed-4798-8d38-59d834363cc8",
   "metadata": {},
   "outputs": [
    {
     "data": {
      "text/plain": [
       "900"
      ]
     },
     "execution_count": 7,
     "metadata": {},
     "output_type": "execute_result"
    }
   ],
   "source": [
    "num"
   ]
  },
  {
   "cell_type": "code",
   "execution_count": 8,
   "id": "46e825ed-e8ab-44d4-b8ab-f746a909d874",
   "metadata": {},
   "outputs": [],
   "source": [
    "a, b, c = 59, 90, \"pwskills\"      # assigning values to variables"
   ]
  },
  {
   "cell_type": "code",
   "execution_count": 10,
   "id": "2011feef-c6ba-41da-8b3e-1336bc4c587a",
   "metadata": {},
   "outputs": [
    {
     "name": "stdout",
     "output_type": "stream",
     "text": [
      "59\n"
     ]
    }
   ],
   "source": [
    "print(a)"
   ]
  },
  {
   "cell_type": "code",
   "execution_count": 11,
   "id": "f0fa64d0-e80c-4f45-8b10-cc29b58b2aed",
   "metadata": {},
   "outputs": [
    {
     "name": "stdout",
     "output_type": "stream",
     "text": [
      "90\n"
     ]
    }
   ],
   "source": [
    "print(b)"
   ]
  },
  {
   "cell_type": "code",
   "execution_count": 12,
   "id": "27c0e728-3f5b-4384-866a-7d8647f5a6c4",
   "metadata": {},
   "outputs": [
    {
     "name": "stdout",
     "output_type": "stream",
     "text": [
      "pwskills\n"
     ]
    }
   ],
   "source": [
    "print(c)"
   ]
  },
  {
   "cell_type": "raw",
   "id": "09015522-e734-4df8-8dae-de50bca862c1",
   "metadata": {},
   "source": []
  },
  {
   "cell_type": "markdown",
   "id": "131a11c0-8151-42dd-a7e7-56cceb493ec3",
   "metadata": {},
   "source": [
    "Q3)  How do you convert one data type to another in Python ?"
   ]
  },
  {
   "cell_type": "markdown",
   "id": "ecfb60ed-dc62-4f9d-96ae-09c1411f5294",
   "metadata": {},
   "source": [
    "Answer: Type conversion is the process of converting one data type to another. There can be two types of type conversion in Python –\n",
    "\n",
    "Implicit Type Conversion and Explicit Type Conversion"
   ]
  },
  {
   "cell_type": "markdown",
   "id": "8bb47ea1-25bc-4b7c-8099-489eab273b84",
   "metadata": {},
   "source": [
    "1)Implicit Type Conversion"
   ]
  },
  {
   "cell_type": "markdown",
   "id": "dfc7c482-4272-4240-b569-ef283262b14d",
   "metadata": {},
   "source": [
    "examples:"
   ]
  },
  {
   "cell_type": "code",
   "execution_count": 14,
   "id": "b9bb5870-5a2c-409c-b402-d18404ba957f",
   "metadata": {},
   "outputs": [
    {
     "name": "stdout",
     "output_type": "stream",
     "text": [
      "<class 'int'>\n",
      "<class 'float'>\n",
      "5.0\n",
      "<class 'float'>\n"
     ]
    }
   ],
   "source": [
    "# Python automatically converts\n",
    "# a to int\n",
    "a = 5\n",
    "print(type(a))\n",
    "\n",
    "# Python automatically converts\n",
    "# b to float\n",
    "b = 1.0\n",
    "print(type(b))\n",
    "\n",
    "# Python automatically converts\n",
    "# c to int as it is a floor division\n",
    "c = a//b\n",
    "print(c)\n",
    "print(type(c))"
   ]
  },
  {
   "cell_type": "markdown",
   "id": "89816c7a-e66d-420e-b9fc-2f86f7d6734d",
   "metadata": {},
   "source": [
    "2)Explicit Type Conversion"
   ]
  },
  {
   "cell_type": "markdown",
   "id": "d10f67ca-5c9c-4745-8e1b-bced760dec3b",
   "metadata": {},
   "source": [
    "In Explicit type conversion, user involvement is required. The user converts one data type to another according to his own need. This can be done with the help of str(), int(), float(), etc. functions. Let’s see the handling of various type conversions."
   ]
  },
  {
   "cell_type": "markdown",
   "id": "466f9f63-421d-44c0-95f5-b7a9734a734d",
   "metadata": {},
   "source": [
    "* Type Conversion with strings\n",
    "\n",
    "A string is generally a sequence of one or more characters. We are often required to convert string to numbers and vice versa. Let’s see each of them in detail.\n",
    "\n",
    "Converting Numbers to String\n",
    "\n",
    "A number can be converted to string using the str() function. To do this pass a number or a variable containing the numeric value to this function."
   ]
  },
  {
   "cell_type": "markdown",
   "id": "efed171e-ce1c-478f-b9a0-0c535740f39b",
   "metadata": {},
   "source": [
    "example:"
   ]
  },
  {
   "cell_type": "code",
   "execution_count": 15,
   "id": "9347e667-c4b8-4f84-9861-604a4d916f15",
   "metadata": {},
   "outputs": [],
   "source": [
    "a=10"
   ]
  },
  {
   "cell_type": "code",
   "execution_count": 16,
   "id": "eee283bf-52f3-463c-8871-44cf7c2870e4",
   "metadata": {},
   "outputs": [],
   "source": [
    "s=str(a)"
   ]
  },
  {
   "cell_type": "code",
   "execution_count": 17,
   "id": "0376ca0f-1f54-48dd-91f0-37097828d3a2",
   "metadata": {},
   "outputs": [
    {
     "name": "stdout",
     "output_type": "stream",
     "text": [
      "10\n",
      "<class 'str'>\n"
     ]
    }
   ],
   "source": [
    "print(s)\n",
    "print(type(s))"
   ]
  },
  {
   "cell_type": "markdown",
   "id": "abb98d38-8576-42f4-b5d9-ea87103f4e2c",
   "metadata": {},
   "source": [
    "* Converting String to Number\n",
    "\n",
    "A string can be converted to a number using int() or float() method. To do this pass a valid string containing the numerical value to either of these functions (depending upon the need).\n",
    "\n",
    "Note: If A string containing not containing a numeric value is passed then an error is raised."
   ]
  },
  {
   "cell_type": "markdown",
   "id": "51221c3b-3821-4090-806e-5268d202f1a3",
   "metadata": {},
   "source": [
    "example:"
   ]
  },
  {
   "cell_type": "code",
   "execution_count": 18,
   "id": "fe2c06ce-82a3-4413-8c40-cfd87f28a219",
   "metadata": {},
   "outputs": [],
   "source": [
    "z='50'"
   ]
  },
  {
   "cell_type": "code",
   "execution_count": 19,
   "id": "acfcf71b-ae71-4909-be14-4bf3fa829950",
   "metadata": {},
   "outputs": [],
   "source": [
    "n=int(z)"
   ]
  },
  {
   "cell_type": "code",
   "execution_count": 20,
   "id": "4e475f06-825a-404a-ab41-a2f3b213c0df",
   "metadata": {},
   "outputs": [
    {
     "name": "stdout",
     "output_type": "stream",
     "text": [
      "50\n",
      "<class 'int'>\n"
     ]
    }
   ],
   "source": [
    "print(n)\n",
    "print(type(n))"
   ]
  },
  {
   "cell_type": "code",
   "execution_count": null,
   "id": "e5ad5fb7-0f8c-4760-8e6c-49e7408a2ab9",
   "metadata": {},
   "outputs": [],
   "source": [
    "z='50'"
   ]
  },
  {
   "cell_type": "code",
   "execution_count": 23,
   "id": "d3ce65a8-cc04-4457-ad31-041debe7be70",
   "metadata": {},
   "outputs": [],
   "source": [
    "n=float(z)"
   ]
  },
  {
   "cell_type": "code",
   "execution_count": 24,
   "id": "9b500f8e-5460-45a1-878b-e99a23f22279",
   "metadata": {},
   "outputs": [
    {
     "name": "stdout",
     "output_type": "stream",
     "text": [
      "50.0\n",
      "<class 'float'>\n"
     ]
    }
   ],
   "source": [
    "print(n)\n",
    "print(type(n))"
   ]
  },
  {
   "cell_type": "markdown",
   "id": "8b632647-3a1c-43c8-bedd-f85284fd7ed2",
   "metadata": {},
   "source": [
    "* Type Conversion with Numbers\n",
    "\n",
    "There are basically two types of numbers in Python – integers and floating-point numbers. Weare often required to change from one type to another. Let’s see their conversion in detail.\n",
    "\n",
    "* Floating Point to Integer\n",
    " \n",
    "A floating-point can be converted to an integer using the int() function. To do this pass a floating-point inside the int() method.\n",
    "\n",
    "* Integer to Floating Point\n",
    "\n",
    "An integer can be converted to float using the float() method. To do this pass an integer inside the float() method."
   ]
  },
  {
   "cell_type": "markdown",
   "id": "5ea64f28-f413-422d-b897-65e4b9c0854e",
   "metadata": {},
   "source": [
    "* Type conversion between Tuple and List\n",
    "\n",
    "In Python, Both tuple and list can be converted to one another. It can be done by using the tuple() and list() method. See the below examples for better understanding."
   ]
  },
  {
   "cell_type": "markdown",
   "id": "eeb1de86-fe1e-4415-9655-17a2fb7ba806",
   "metadata": {},
   "source": [
    "example:"
   ]
  },
  {
   "cell_type": "code",
   "execution_count": 25,
   "id": "3b581dae-861d-4dc6-bc31-d7a2bfb4ca15",
   "metadata": {},
   "outputs": [
    {
     "name": "stdout",
     "output_type": "stream",
     "text": [
      "(5, 6, 7, 8)\n",
      "<class 'tuple'>\n",
      "[1, 2, 3, 4]\n",
      "<class 'list'>\n"
     ]
    }
   ],
   "source": [
    "t = (1, 2, 3, 4)\n",
    "l = [5, 6, 7, 8]\n",
    " \n",
    "# Converting to tuple\n",
    "T = tuple(l)\n",
    "print(T)\n",
    "print(type(T))\n",
    " \n",
    "# Converting to list\n",
    "L = list(t)\n",
    "print(L)\n",
    "print(type(L))"
   ]
  },
  {
   "cell_type": "raw",
   "id": "5506b542-e14f-4ec9-aa89-351f9c6e8bfd",
   "metadata": {},
   "source": []
  },
  {
   "cell_type": "markdown",
   "id": "3236a82a-0121-412b-894d-0ad75afca5ff",
   "metadata": {},
   "source": [
    "Q4. How do you write and execute a Python script from the command line?"
   ]
  },
  {
   "cell_type": "markdown",
   "id": "e08b7295-d942-4576-a4df-a0c23871d32e",
   "metadata": {},
   "source": [
    "Answer: Python is a well-known high-level programming language. The Python script is basically a file containing code written in Python. The file containing Python script has the extension ‘.py’ or can also have the extension ‘.pyw’ if it is being run on a Windows machine. In this article, we will learn how to run a Python program. To run a Python script, we need a Python interpreter that needs to be downloaded and installed."
   ]
  },
  {
   "cell_type": "markdown",
   "id": "2284dca5-2bf2-4135-a5ba-ecc3b1d83671",
   "metadata": {},
   "source": [
    "How to Run Python Script by the Command Line\n",
    "\n",
    "To run a Python script store in a ‘.py’ file in the command line, we have to write ‘python’ keyword before the file name in the command prompt.\n",
    "\n",
    "python hello.py\n",
    "\n",
    "You can write your own file name in place of ‘hello.py’."
   ]
  },
  {
   "cell_type": "raw",
   "id": "46718310-2057-478b-8971-8d7d0f57beae",
   "metadata": {},
   "source": []
  },
  {
   "cell_type": "markdown",
   "id": "b0488a72-00c4-4596-aeb3-4728d1587fff",
   "metadata": {},
   "source": [
    "Q5. Given a list my_list = [1, 2, 3, 4, 5], write the code to slice the list and obtain the sub-list [2, 3]"
   ]
  },
  {
   "cell_type": "markdown",
   "id": "bae0e2b5-6b59-425c-a5e8-bdfa18047ed3",
   "metadata": {},
   "source": [
    "Answer: "
   ]
  },
  {
   "cell_type": "code",
   "execution_count": 26,
   "id": "eccfc048-a216-423f-aee3-52498ea056e4",
   "metadata": {},
   "outputs": [],
   "source": [
    "my_list = [1,2,3,4,5]"
   ]
  },
  {
   "cell_type": "code",
   "execution_count": 28,
   "id": "504a9f64-3a3d-4d1e-815f-a427e06fe704",
   "metadata": {},
   "outputs": [
    {
     "data": {
      "text/plain": [
       "[2, 3]"
      ]
     },
     "execution_count": 28,
     "metadata": {},
     "output_type": "execute_result"
    }
   ],
   "source": [
    "my_list[1:3:1]"
   ]
  },
  {
   "cell_type": "markdown",
   "id": "293d9c19-97c4-43ec-9d72-a5a19edde4a8",
   "metadata": {},
   "source": []
  },
  {
   "cell_type": "markdown",
   "id": "7a1c2213-9c6a-4d38-904c-8e41c00d60ea",
   "metadata": {},
   "source": [
    "Q6. What is a complex number in mathematics, and how is it represented in Python?"
   ]
  },
  {
   "cell_type": "markdown",
   "id": "319062e2-067e-4923-8d92-afc6a8f9572c",
   "metadata": {},
   "source": [
    "Answer: Complex Numbers are the numbers of the form (a + i b) where a & b are the real numbers and i is an imaginary unit called iota that represents √-1. For example, 2 + 3i, is a complex number in which 2 is a real number and 3i is an imaginary number.\n",
    "\n"
   ]
  },
  {
   "cell_type": "markdown",
   "id": "3ea31c23-a2fa-4dbd-8705-0ade9a54d55a",
   "metadata": {},
   "source": [
    "representing in python"
   ]
  },
  {
   "cell_type": "code",
   "execution_count": 29,
   "id": "4f28fed3-efb3-4083-8b1b-ffae953c2cae",
   "metadata": {},
   "outputs": [],
   "source": [
    "z = 34 + 78j       # in python we write j instead of i"
   ]
  },
  {
   "cell_type": "code",
   "execution_count": 30,
   "id": "6131fa3f-251d-4d7a-ab83-3f1f14ca1432",
   "metadata": {},
   "outputs": [
    {
     "data": {
      "text/plain": [
       "complex"
      ]
     },
     "execution_count": 30,
     "metadata": {},
     "output_type": "execute_result"
    }
   ],
   "source": [
    "type(z)"
   ]
  },
  {
   "cell_type": "code",
   "execution_count": 31,
   "id": "fcd47bd3-2a71-4bb7-a901-d6a5069c52bc",
   "metadata": {},
   "outputs": [
    {
     "data": {
      "text/plain": [
       "34.0"
      ]
     },
     "execution_count": 31,
     "metadata": {},
     "output_type": "execute_result"
    }
   ],
   "source": [
    "z.real"
   ]
  },
  {
   "cell_type": "code",
   "execution_count": 34,
   "id": "37dfaa7a-8dcd-4ac6-8e80-066942bd3380",
   "metadata": {},
   "outputs": [
    {
     "data": {
      "text/plain": [
       "78.0"
      ]
     },
     "execution_count": 34,
     "metadata": {},
     "output_type": "execute_result"
    }
   ],
   "source": [
    "z.imag"
   ]
  },
  {
   "cell_type": "raw",
   "id": "0699a982-3a07-4167-9204-f96d8b5388c3",
   "metadata": {},
   "source": []
  },
  {
   "cell_type": "markdown",
   "id": "3281c6b3-e4fd-4330-a54f-d09bafe29d04",
   "metadata": {},
   "source": [
    "Q7. What is the correct way to declare a variable named age and assign the value 25 to it ?"
   ]
  },
  {
   "cell_type": "markdown",
   "id": "decd466d-ae2b-4e19-a5e7-fd69ccbbe93d",
   "metadata": {},
   "source": [
    "Answer: "
   ]
  },
  {
   "cell_type": "code",
   "execution_count": 35,
   "id": "0c4afa8e-fe70-4ec4-ab44-4c6215a4c874",
   "metadata": {},
   "outputs": [],
   "source": [
    "# decalare value 25 to variable called as age"
   ]
  },
  {
   "cell_type": "code",
   "execution_count": 66,
   "id": "037cd36e-48d4-4faf-a527-d671c497fcab",
   "metadata": {},
   "outputs": [],
   "source": [
    "age = int(25)"
   ]
  },
  {
   "cell_type": "code",
   "execution_count": 67,
   "id": "f3c9da60-9ac6-4e84-9daa-b2a722900ba5",
   "metadata": {},
   "outputs": [
    {
     "data": {
      "text/plain": [
       "25"
      ]
     },
     "execution_count": 67,
     "metadata": {},
     "output_type": "execute_result"
    }
   ],
   "source": [
    "age"
   ]
  },
  {
   "cell_type": "markdown",
   "id": "56699667-e8cd-4f5b-8143-fba59e2df78d",
   "metadata": {},
   "source": []
  },
  {
   "cell_type": "markdown",
   "id": "47ae6127-b0d6-405d-b55b-9308e29989ea",
   "metadata": {},
   "source": [
    "Q8. Declare a variable named price and assign the value 9.99 to it. What data type does this variable \n",
    "belong to ?"
   ]
  },
  {
   "cell_type": "markdown",
   "id": "504933bf-4634-401a-985c-40cfe873ddb4",
   "metadata": {},
   "source": [
    "Answer:"
   ]
  },
  {
   "cell_type": "code",
   "execution_count": 39,
   "id": "77aa3d8b-fcb8-40bd-b7f1-52c8eb69319e",
   "metadata": {},
   "outputs": [],
   "source": [
    "price = 9.99"
   ]
  },
  {
   "cell_type": "code",
   "execution_count": 40,
   "id": "92dc1c3a-f1e6-4599-ba7e-bb308081307e",
   "metadata": {},
   "outputs": [
    {
     "data": {
      "text/plain": [
       "9.99"
      ]
     },
     "execution_count": 40,
     "metadata": {},
     "output_type": "execute_result"
    }
   ],
   "source": [
    "price"
   ]
  },
  {
   "cell_type": "code",
   "execution_count": 41,
   "id": "61fa6c7f-5460-4de5-b489-3e36548a0908",
   "metadata": {},
   "outputs": [],
   "source": [
    "z = price"
   ]
  },
  {
   "cell_type": "code",
   "execution_count": 42,
   "id": "3a8e07ee-5ae9-4ea5-8c02-b3f829d76f95",
   "metadata": {},
   "outputs": [
    {
     "data": {
      "text/plain": [
       "float"
      ]
     },
     "execution_count": 42,
     "metadata": {},
     "output_type": "execute_result"
    }
   ],
   "source": [
    "type(z)"
   ]
  },
  {
   "cell_type": "markdown",
   "id": "dbfb6ab3-2ea1-4b7c-bc56-91ee8db2408b",
   "metadata": {},
   "source": [
    "we get float data type."
   ]
  },
  {
   "cell_type": "raw",
   "id": "23d3368f-2dec-495c-9203-d4da17fd853b",
   "metadata": {},
   "source": []
  },
  {
   "cell_type": "markdown",
   "id": "264ebd0f-e5d2-4866-a1cd-2b8ccac32d82",
   "metadata": {},
   "source": [
    "Q9. Create a variable named name and assign your full name to it as a string. How would you print the \n",
    "value of this variable"
   ]
  },
  {
   "cell_type": "markdown",
   "id": "0fd57688-90f2-4941-bba6-e0dbe37c6741",
   "metadata": {},
   "source": [
    "Answer:"
   ]
  },
  {
   "cell_type": "code",
   "execution_count": 69,
   "id": "9c0f222c-731b-4cf6-afb6-3ede81be166b",
   "metadata": {},
   "outputs": [],
   "source": [
    "s = \"Snehal Thale\""
   ]
  },
  {
   "cell_type": "code",
   "execution_count": 70,
   "id": "591778ca-a2ff-478a-8613-78e4e76328be",
   "metadata": {},
   "outputs": [
    {
     "data": {
      "text/plain": [
       "'Snehal Thale'"
      ]
     },
     "execution_count": 70,
     "metadata": {},
     "output_type": "execute_result"
    }
   ],
   "source": [
    "s"
   ]
  },
  {
   "cell_type": "raw",
   "id": "dca50348-75da-4159-8703-253371d994fe",
   "metadata": {},
   "source": []
  },
  {
   "cell_type": "markdown",
   "id": "e407260d-6ea3-4f46-a9ff-763cab5d46fd",
   "metadata": {},
   "source": [
    "Q10. Given the string \"Hello, World!\", extract the substring \"World\""
   ]
  },
  {
   "cell_type": "markdown",
   "id": "f77d2fd7-2bbc-4556-8651-c9ace87c7682",
   "metadata": {},
   "source": [
    "Answer:"
   ]
  },
  {
   "cell_type": "code",
   "execution_count": null,
   "id": "6538a3fd-0858-4217-a523-f9b3d77b8892",
   "metadata": {},
   "outputs": [],
   "source": [
    "s = \"Hello, World!\""
   ]
  },
  {
   "cell_type": "code",
   "execution_count": 68,
   "id": "5e4b31a6-b45b-49db-a599-988d9cc8ef64",
   "metadata": {},
   "outputs": [
    {
     "data": {
      "text/plain": [
       "'World'"
      ]
     },
     "execution_count": 68,
     "metadata": {},
     "output_type": "execute_result"
    }
   ],
   "source": [
    "s[7:12:1]"
   ]
  },
  {
   "cell_type": "raw",
   "id": "ef2b462d-d09e-4c6d-817f-f19ba04a22dd",
   "metadata": {},
   "source": []
  },
  {
   "cell_type": "markdown",
   "id": "17bbef02-4548-4196-a357-b4bf48a14eaf",
   "metadata": {},
   "source": [
    "Q11. Create a variable named \"is_student\" and assign it a boolean value indicating whether you are \n",
    "currently a student or not ?"
   ]
  },
  {
   "cell_type": "markdown",
   "id": "711a76e3-a60f-4e80-8074-1c840231b80a",
   "metadata": {},
   "source": [
    "Answer:"
   ]
  },
  {
   "cell_type": "code",
   "execution_count": 72,
   "id": "b5ef11ce-d61d-4658-a987-9cf69987c4b3",
   "metadata": {},
   "outputs": [],
   "source": [
    "is_student = True"
   ]
  },
  {
   "cell_type": "code",
   "execution_count": 73,
   "id": "063c9de4-bcc3-4978-81ea-168e5e4b206d",
   "metadata": {},
   "outputs": [
    {
     "name": "stdout",
     "output_type": "stream",
     "text": [
      "True\n"
     ]
    }
   ],
   "source": [
    "print(is_student) "
   ]
  }
 ],
 "metadata": {
  "kernelspec": {
   "display_name": "Python 3 (ipykernel)",
   "language": "python",
   "name": "python3"
  },
  "language_info": {
   "codemirror_mode": {
    "name": "ipython",
    "version": 3
   },
   "file_extension": ".py",
   "mimetype": "text/x-python",
   "name": "python",
   "nbconvert_exporter": "python",
   "pygments_lexer": "ipython3",
   "version": "3.10.8"
  }
 },
 "nbformat": 4,
 "nbformat_minor": 5
}
